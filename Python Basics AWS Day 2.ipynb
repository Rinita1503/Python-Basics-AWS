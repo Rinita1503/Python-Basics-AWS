{
 "cells": [
  {
   "cell_type": "markdown",
   "id": "ec7f3e6c",
   "metadata": {},
   "source": [
    "# VARIABLES AND ASSIGNMENT OPERATORS"
   ]
  },
  {
   "cell_type": "code",
   "execution_count": null,
   "id": "ec73f490",
   "metadata": {},
   "outputs": [],
   "source": [
    "# Examples:"
   ]
  },
  {
   "cell_type": "code",
   "execution_count": 1,
   "id": "3b8dedcd",
   "metadata": {},
   "outputs": [
    {
     "name": "stdout",
     "output_type": "stream",
     "text": [
      "2\n"
     ]
    }
   ],
   "source": [
    "x = 2\n",
    "y = x\n",
    "print(y)"
   ]
  },
  {
   "cell_type": "code",
   "execution_count": 2,
   "id": "5d25436e",
   "metadata": {},
   "outputs": [
    {
     "name": "stdout",
     "output_type": "stream",
     "text": [
      "6229.929137140475\n"
     ]
    }
   ],
   "source": [
    "x = 74728\n",
    "y = 11.995\n",
    "z = x/y\n",
    "print(z)"
   ]
  },
  {
   "cell_type": "code",
   "execution_count": 4,
   "id": "8346b56b",
   "metadata": {},
   "outputs": [
    {
     "name": "stdout",
     "output_type": "stream",
     "text": [
      "6229.929137140475\n"
     ]
    }
   ],
   "source": [
    "mv_population = 74728\n",
    "mv_area = 11.995\n",
    "mv_density = mv_population/mv_area\n",
    "print(mv_density)"
   ]
  },
  {
   "cell_type": "markdown",
   "id": "62419a06",
   "metadata": {},
   "source": [
    "# INTEGERS AND FLOATS"
   ]
  },
  {
   "cell_type": "code",
   "execution_count": null,
   "id": "1abbcde6",
   "metadata": {},
   "outputs": [],
   "source": [
    "An operation involving an int and a float always produces a float"
   ]
  },
  {
   "cell_type": "code",
   "execution_count": null,
   "id": "85045970",
   "metadata": {},
   "outputs": [],
   "source": [
    "# For example"
   ]
  },
  {
   "cell_type": "code",
   "execution_count": 5,
   "id": "c1d2ea2b",
   "metadata": {},
   "outputs": [
    {
     "name": "stdout",
     "output_type": "stream",
     "text": [
      "5.5\n"
     ]
    }
   ],
   "source": [
    "print(3+2.5)"
   ]
  },
  {
   "cell_type": "code",
   "execution_count": 8,
   "id": "5676c696",
   "metadata": {},
   "outputs": [
    {
     "name": "stdout",
     "output_type": "stream",
     "text": [
      "6759.0\n"
     ]
    }
   ],
   "source": [
    "print(float(3520+3239))"
   ]
  },
  {
   "cell_type": "code",
   "execution_count": null,
   "id": "7851920c",
   "metadata": {},
   "outputs": [],
   "source": [
    "Convert a float to an int the part of the number after the decimal point is cut off"
   ]
  },
  {
   "cell_type": "code",
   "execution_count": null,
   "id": "5b097a19",
   "metadata": {},
   "outputs": [],
   "source": [
    "# For example"
   ]
  },
  {
   "cell_type": "code",
   "execution_count": 6,
   "id": "d0a9c00f",
   "metadata": {},
   "outputs": [
    {
     "name": "stdout",
     "output_type": "stream",
     "text": [
      "49\n"
     ]
    }
   ],
   "source": [
    "print(int(49.7))"
   ]
  },
  {
   "cell_type": "code",
   "execution_count": 7,
   "id": "333730f8",
   "metadata": {},
   "outputs": [
    {
     "name": "stdout",
     "output_type": "stream",
     "text": [
      "4\n"
     ]
    }
   ],
   "source": [
    "print(int(16/4))"
   ]
  },
  {
   "cell_type": "code",
   "execution_count": null,
   "id": "050ae999",
   "metadata": {},
   "outputs": [],
   "source": [
    "Floating-point numbers are approximations"
   ]
  },
  {
   "cell_type": "code",
   "execution_count": 11,
   "id": "8a927814",
   "metadata": {},
   "outputs": [
    {
     "name": "stdout",
     "output_type": "stream",
     "text": [
      "0.3333333333333333\n"
     ]
    }
   ],
   "source": [
    "print(float(1/3))"
   ]
  },
  {
   "cell_type": "code",
   "execution_count": 13,
   "id": "fb36bfd3",
   "metadata": {},
   "outputs": [
    {
     "name": "stdout",
     "output_type": "stream",
     "text": [
      "0.30000000000000004\n"
     ]
    }
   ],
   "source": [
    "print(0.1+0.1+0.1)"
   ]
  },
  {
   "cell_type": "code",
   "execution_count": null,
   "id": "a71caa84",
   "metadata": {},
   "outputs": [],
   "source": []
  }
 ],
 "metadata": {
  "kernelspec": {
   "display_name": "Python 3",
   "language": "python",
   "name": "python3"
  },
  "language_info": {
   "codemirror_mode": {
    "name": "ipython",
    "version": 3
   },
   "file_extension": ".py",
   "mimetype": "text/x-python",
   "name": "python",
   "nbconvert_exporter": "python",
   "pygments_lexer": "ipython3",
   "version": "3.8.8"
  }
 },
 "nbformat": 4,
 "nbformat_minor": 5
}
