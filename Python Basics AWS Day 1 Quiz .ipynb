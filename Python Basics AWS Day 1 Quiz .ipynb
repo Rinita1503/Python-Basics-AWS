{
 "cells": [
  {
   "cell_type": "markdown",
   "id": "98a4bc34",
   "metadata": {},
   "source": [
    "# Quiz:Arithmetic Operators"
   ]
  },
  {
   "cell_type": "raw",
   "id": "84a831cd",
   "metadata": {},
   "source": [
    "Question 1."
   ]
  },
  {
   "cell_type": "markdown",
   "id": "1595d402",
   "metadata": {},
   "source": [
    "My electricity bills for the last three months have been $23, $32 and $64. What is the average monthly electricity bill over the three month period? Write an expression to calculate the mean, and use print() to view the result."
   ]
  },
  {
   "cell_type": "code",
   "execution_count": null,
   "id": "ccfba45a",
   "metadata": {},
   "outputs": [],
   "source": [
    "# Write an expression that calculates the average of 23, 32 and 64"
   ]
  },
  {
   "cell_type": "code",
   "execution_count": 3,
   "id": "cf96d08f",
   "metadata": {},
   "outputs": [
    {
     "name": "stdout",
     "output_type": "stream",
     "text": [
      "39.666666666666664\n"
     ]
    }
   ],
   "source": [
    "print((23+32+64)/3)"
   ]
  },
  {
   "cell_type": "raw",
   "id": "6305fae2",
   "metadata": {},
   "source": [
    "Question 2."
   ]
  },
  {
   "cell_type": "markdown",
   "id": "2634f9e3",
   "metadata": {},
   "source": [
    "In this quiz you're going to do some calculations for a tiler. Two parts of a floor need tiling. One part is 9 tiles wide by 7 tiles long, the other is 5 tiles wide by 7 tiles long. Tiles come in packages of 6.\n",
    "\n",
    "How many tiles are needed?\n",
    "You buy 17 packages of tiles containing 6 tiles each. How many tiles will be left over?"
   ]
  },
  {
   "cell_type": "code",
   "execution_count": null,
   "id": "88b94c84",
   "metadata": {},
   "outputs": [],
   "source": [
    "# Fill this in with an expression that calculates how many tiles are needed."
   ]
  },
  {
   "cell_type": "code",
   "execution_count": 3,
   "id": "3c3e6825",
   "metadata": {},
   "outputs": [
    {
     "name": "stdout",
     "output_type": "stream",
     "text": [
      "98\n"
     ]
    }
   ],
   "source": [
    "print(9*7+5*7)"
   ]
  },
  {
   "cell_type": "code",
   "execution_count": null,
   "id": "06483ffb",
   "metadata": {},
   "outputs": [],
   "source": [
    "# Fill this in with an expression that calculates how many tiles will be left over."
   ]
  },
  {
   "cell_type": "code",
   "execution_count": 4,
   "id": "0e6e01f7",
   "metadata": {},
   "outputs": [
    {
     "name": "stdout",
     "output_type": "stream",
     "text": [
      "4\n"
     ]
    }
   ],
   "source": [
    "print((17*6)-(9*7+5*7))"
   ]
  },
  {
   "cell_type": "raw",
   "id": "964711f3",
   "metadata": {},
   "source": [
    "Question 3."
   ]
  },
  {
   "cell_type": "markdown",
   "id": "f9612b38",
   "metadata": {},
   "source": [
    "Which of these lines of Python code are well formatted? How would you improve the readability of the codes that don't use good formatting? (Choose all that apply)\n",
    "1. print(((3+32))+ -15/2)\n",
    "2. print((17 - 6)%(5 + 2))\n",
    "3. print ((1+2+4) / 13)\n",
    "4. print(4/2-7*7)"
   ]
  },
  {
   "cell_type": "code",
   "execution_count": 5,
   "id": "6ceb28bd",
   "metadata": {},
   "outputs": [
    {
     "name": "stdout",
     "output_type": "stream",
     "text": [
      "4\n"
     ]
    }
   ],
   "source": [
    "print((17 - 6)%(5 + 2))"
   ]
  },
  {
   "cell_type": "code",
   "execution_count": 7,
   "id": "09ce584f",
   "metadata": {},
   "outputs": [
    {
     "name": "stdout",
     "output_type": "stream",
     "text": [
      "-47.0\n"
     ]
    }
   ],
   "source": [
    "print(4/2-7*7)"
   ]
  },
  {
   "cell_type": "code",
   "execution_count": null,
   "id": "3ce1f001",
   "metadata": {},
   "outputs": [],
   "source": []
  }
 ],
 "metadata": {
  "kernelspec": {
   "display_name": "Python 3",
   "language": "python",
   "name": "python3"
  },
  "language_info": {
   "codemirror_mode": {
    "name": "ipython",
    "version": 3
   },
   "file_extension": ".py",
   "mimetype": "text/x-python",
   "name": "python",
   "nbconvert_exporter": "python",
   "pygments_lexer": "ipython3",
   "version": "3.8.8"
  }
 },
 "nbformat": 4,
 "nbformat_minor": 5
}
