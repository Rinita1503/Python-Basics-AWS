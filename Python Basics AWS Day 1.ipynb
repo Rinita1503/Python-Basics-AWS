{
 "cells": [
  {
   "cell_type": "markdown",
   "id": "451ce1c9",
   "metadata": {},
   "source": [
    "# ARITHMETIC OPERATORS "
   ]
  },
  {
   "cell_type": "code",
   "execution_count": null,
   "id": "b24859af",
   "metadata": {},
   "outputs": [],
   "source": [
    "# Symbol Operation"
   ]
  },
  {
   "cell_type": "code",
   "execution_count": 4,
   "id": "31fcac90",
   "metadata": {},
   "outputs": [
    {
     "name": "stdout",
     "output_type": "stream",
     "text": [
      "12\n"
     ]
    }
   ],
   "source": [
    "print(1+2+3*3)"
   ]
  },
  {
   "cell_type": "code",
   "execution_count": 5,
   "id": "6ffb048d",
   "metadata": {},
   "outputs": [
    {
     "name": "stdout",
     "output_type": "stream",
     "text": [
      "18\n"
     ]
    }
   ],
   "source": [
    "print((1+2+3)*3)"
   ]
  },
  {
   "cell_type": "code",
   "execution_count": null,
   "id": "0c3f5d25",
   "metadata": {},
   "outputs": [],
   "source": [
    "# Exponentiation "
   ]
  },
  {
   "cell_type": "code",
   "execution_count": 6,
   "id": "54918fb5",
   "metadata": {},
   "outputs": [
    {
     "name": "stdout",
     "output_type": "stream",
     "text": [
      "9\n"
     ]
    }
   ],
   "source": [
    "print(3**2)"
   ]
  },
  {
   "cell_type": "code",
   "execution_count": null,
   "id": "a137b0ae",
   "metadata": {},
   "outputs": [],
   "source": [
    "# modulo"
   ]
  },
  {
   "cell_type": "code",
   "execution_count": 7,
   "id": "8e12e1b1",
   "metadata": {},
   "outputs": [
    {
     "name": "stdout",
     "output_type": "stream",
     "text": [
      "1\n"
     ]
    }
   ],
   "source": [
    "print(9%2)"
   ]
  },
  {
   "cell_type": "code",
   "execution_count": null,
   "id": "216a9c8b",
   "metadata": {},
   "outputs": [],
   "source": [
    "# integer division"
   ]
  },
  {
   "cell_type": "code",
   "execution_count": 8,
   "id": "ca460e03",
   "metadata": {},
   "outputs": [
    {
     "name": "stdout",
     "output_type": "stream",
     "text": [
      "3\n"
     ]
    }
   ],
   "source": [
    "print(7//2)"
   ]
  },
  {
   "cell_type": "code",
   "execution_count": 9,
   "id": "dc76c128",
   "metadata": {},
   "outputs": [
    {
     "name": "stdout",
     "output_type": "stream",
     "text": [
      "-4\n"
     ]
    }
   ],
   "source": [
    "print(-7//2)"
   ]
  }
 ],
 "metadata": {
  "kernelspec": {
   "display_name": "Python 3",
   "language": "python",
   "name": "python3"
  },
  "language_info": {
   "codemirror_mode": {
    "name": "ipython",
    "version": 3
   },
   "file_extension": ".py",
   "mimetype": "text/x-python",
   "name": "python",
   "nbconvert_exporter": "python",
   "pygments_lexer": "ipython3",
   "version": "3.8.8"
  }
 },
 "nbformat": 4,
 "nbformat_minor": 5
}
