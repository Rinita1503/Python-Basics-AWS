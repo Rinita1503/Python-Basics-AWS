{
 "cells": [
  {
   "cell_type": "markdown",
   "id": "52576f30",
   "metadata": {},
   "source": [
    "# Quiz: Variables and Assignment Operators"
   ]
  },
  {
   "cell_type": "code",
   "execution_count": null,
   "id": "4a4b19ac",
   "metadata": {},
   "outputs": [],
   "source": [
    "# Question 1. "
   ]
  },
  {
   "cell_type": "raw",
   "id": "a3a2a4ea",
   "metadata": {},
   "source": [
    "Note that this code uses scientific notation to define large numbers. 4.445e8 is equal to 4.445 * 10 ** 8 which is equal to 444500000.0."
   ]
  },
  {
   "cell_type": "code",
   "execution_count": null,
   "id": "cb084ee5",
   "metadata": {},
   "outputs": [],
   "source": [
    "# The current volume of a water reservoir (in cubic metres)\n",
    "reservoir_volume = 4.445e8\n",
    "# The amount of rainfall from a storm (in cubic metres)\n",
    "rainfall = 5e6\n",
    "\n",
    "# decrease the rainfall variable by 10% to account for runoff\n",
    "\n",
    "# add the rainfall variable to the reservoir_volume variable\n",
    "\n",
    "# increase reservoir_volume by 5% to account for stormwater that flows\n",
    "# into the reservoir in the days following the storm\n",
    "\n",
    "# decrease reservoir_volume by 5% to account for evaporation\n",
    "\n",
    "# subtract 2.5e5 cubic metres from reservoir_volume to account for water\n",
    "# that's piped to arid regions.\n",
    "\n",
    "# print the new value of the reservoir_volume variable"
   ]
  },
  {
   "cell_type": "code",
   "execution_count": null,
   "id": "f4b8a3b8",
   "metadata": {},
   "outputs": [],
   "source": [
    "reservoir_volume = 4.445e8\n",
    "\n",
    "rainfall = 5e6\n",
    "\n",
    "rainfall = rainfall * 90/100\n",
    "\n",
    "reservoir_volume += rainfall\n",
    "\n",
    "reservoir_volume = reservoir_volume * 105/100\n",
    "\n",
    "reservoir_volume = reservoir_volume * 95/100\n",
    "\n",
    "reservoir_volume -= 2.5e5\n",
    "\n",
    "print(reservoir_volume)"
   ]
  },
  {
   "cell_type": "code",
   "execution_count": null,
   "id": "f13d1c67",
   "metadata": {},
   "outputs": [],
   "source": [
    "# Question 2."
   ]
  },
  {
   "cell_type": "code",
   "execution_count": null,
   "id": "f2a757f7",
   "metadata": {},
   "outputs": [],
   "source": [
    "Each line of code executes in order, one at a time, with control going from one line to the next.\n",
    "\n",
    ">>> carrots = 24\n",
    ">>> rabbits = 8\n",
    ">>> crs_per_rab = carrots/rabbits\n",
    "\n",
    "Now we add a new 4th line to this code, that assigns a new value to the rabbits variable:\n",
    "\n",
    ">>> rabbits = 12\n",
    "\n",
    "If we now add this new 5th line of code to the above, what will the output be?\n",
    "\n",
    ">>> print(crs_per_rab)\n",
    "1. 0.5\n",
    "2. 2.0\n",
    "3. 3.0\n",
    "4. None of the above "
   ]
  },
  {
   "cell_type": "code",
   "execution_count": null,
   "id": "e2384953",
   "metadata": {},
   "outputs": [],
   "source": [
    "3.0"
   ]
  },
  {
   "cell_type": "code",
   "execution_count": null,
   "id": "19d7fe84",
   "metadata": {},
   "outputs": [],
   "source": [
    "# Question 3. "
   ]
  },
  {
   "cell_type": "markdown",
   "id": "1797368f",
   "metadata": {},
   "source": [
    "Here is a list of U.S. states in order of the date they entered the Union. Say you wanted to create a variable for Delaware and assign it a value to signify that it joined the Union first. Which of the following are valid variable names and assignments in Python?\n",
    "1. del = 1 \n",
    "2. delaware = 1\n",
    "3. 1 de = first\n",
    "4. de = 1 "
   ]
  },
  {
   "cell_type": "code",
   "execution_count": null,
   "id": "76041e22",
   "metadata": {},
   "outputs": [],
   "source": [
    "2. delaware = 1\n",
    "4. de = 1"
   ]
  },
  {
   "cell_type": "markdown",
   "id": "4de98518",
   "metadata": {},
   "source": [
    "# Quiz: Integers and Floats"
   ]
  },
  {
   "cell_type": "code",
   "execution_count": null,
   "id": "011a9e8d",
   "metadata": {},
   "outputs": [],
   "source": [
    "# Question 1."
   ]
  },
  {
   "cell_type": "markdown",
   "id": "c0c1204a",
   "metadata": {},
   "source": [
    "In the fishy situation below, some of the quantities are of type int and some are of type float. Check all the ones that should be of type float.\n",
    "1. How many people came on your fishing trip.\n",
    "2. Length of a fish you caught, in meters\n",
    "3. Number of fish caught on a fishing trip\n",
    "4. Length of time it took to catch the first fish, in hours."
   ]
  },
  {
   "cell_type": "code",
   "execution_count": null,
   "id": "4a6879a1",
   "metadata": {},
   "outputs": [],
   "source": [
    "2. Length of a fish you caught, in meters\n",
    "4. Length of time it took to catch the first fish in hours."
   ]
  },
  {
   "cell_type": "code",
   "execution_count": null,
   "id": "6379228e",
   "metadata": {},
   "outputs": [],
   "source": [
    "# Question 2."
   ]
  },
  {
   "cell_type": "code",
   "execution_count": null,
   "id": "9db99d58",
   "metadata": {},
   "outputs": [],
   "source": [
    "What happens if you divide by zero in Python? Try it out! Test run this code and see what happens."
   ]
  },
  {
   "cell_type": "code",
   "execution_count": null,
   "id": "eb8ba03b",
   "metadata": {},
   "outputs": [],
   "source": [
    "print(5/0)"
   ]
  }
 ],
 "metadata": {
  "kernelspec": {
   "display_name": "Python 3",
   "language": "python",
   "name": "python3"
  },
  "language_info": {
   "codemirror_mode": {
    "name": "ipython",
    "version": 3
   },
   "file_extension": ".py",
   "mimetype": "text/x-python",
   "name": "python",
   "nbconvert_exporter": "python",
   "pygments_lexer": "ipython3",
   "version": "3.8.8"
  }
 },
 "nbformat": 4,
 "nbformat_minor": 5
}
